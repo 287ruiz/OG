{
  "nbformat": 4,
  "nbformat_minor": 5,
  "metadata": {
    "kernelspec": {
      "display_name": "Python 3",
      "language": "python",
      "name": "python3"
    },
    "language_info": {
      "codemirror_mode": {
        "name": "ipython",
        "version": 3
      },
      "file_extension": ".py",
      "mimetype": "text/x-python",
      "name": "python",
      "nbconvert_exporter": "python",
      "pygments_lexer": "ipython3",
      "version": "3.8.8"
    },
    "colab": {
      "name": "Regla de Johnson.ipynb",
      "provenance": [],
      "include_colab_link": true
    }
  },
  "cells": [
    {
      "cell_type": "markdown",
      "metadata": {
        "id": "view-in-github",
        "colab_type": "text"
      },
      "source": [
        "<a href=\"https://colab.research.google.com/github/287ruiz/OG/blob/main/Regla_de_Johnson.ipynb\" target=\"_parent\"><img src=\"https://colab.research.google.com/assets/colab-badge.svg\" alt=\"Open In Colab\"/></a>"
      ]
    },
    {
      "cell_type": "code",
      "metadata": {
        "id": "d8894fb7",
        "colab": {
          "base_uri": "https://localhost:8080/"
        },
        "outputId": "d87f66da-84f1-4fe5-e229-6f3848ea04d9"
      },
      "source": [
        "encajamiento2 = \"\" #@param {type:\"string\"}\n",
        "altura_uterina = input(\"Escriba altura uterina\")\n",
        "encajamiento = input(\"Si el producto esta encajado escriba 11, sino escriba 12\")\n",
        "regla_de_Johnson = (int(altura_uterina)- int(encajamiento)) * 155\n",
        "\n",
        "print(\"Peso estimado es\", regla_de_Johnson)"
      ],
      "id": "d8894fb7",
      "execution_count": null,
      "outputs": [
        {
          "output_type": "stream",
          "name": "stdout",
          "text": [
            "Escriba altura uterina38\n",
            "Si el producto esta encajado escriba 11, sino escriba 1212\n",
            "Peso estimado es 4030\n"
          ]
        }
      ]
    }
  ]
}